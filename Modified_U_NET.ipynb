{
  "nbformat": 4,
  "nbformat_minor": 0,
  "metadata": {
    "kernelspec": {
      "name": "python3",
      "display_name": "Python 3.6.8 64-bit"
    },
    "language_info": {
      "codemirror_mode": {
        "name": "ipython",
        "version": 3
      },
      "file_extension": ".py",
      "mimetype": "text/x-python",
      "name": "python",
      "nbconvert_exporter": "python",
      "pygments_lexer": "ipython3",
      "version": "3.6.8"
    },
    "colab": {
      "provenance": []
    },
    "accelerator": "GPU",
    "metadata": {
      "interpreter": {
        "hash": "e7c37ba80a6e54a3d63188245ab5de6a3e0d381993bcb1990a7020536fc2299e"
      }
    },
    "interpreter": {
      "hash": "e7c37ba80a6e54a3d63188245ab5de6a3e0d381993bcb1990a7020536fc2299e"
    }
  },
  "cells": [
    {
      "cell_type": "code",
      "metadata": {
        "colab": {
          "base_uri": "https://localhost:8080/"
        },
        "id": "v-FzrIkxdDT3",
        "outputId": "83484eef-683b-4984-9494-96507fa5dff9"
      },
      "source": [
        "from google.colab import drive\n",
        "drive.mount('/content/drive')"
      ],
      "execution_count": null,
      "outputs": [
        {
          "output_type": "stream",
          "text": [
            "Drive already mounted at /content/drive; to attempt to forcibly remount, call drive.mount(\"/content/drive\", force_remount=True).\n"
          ],
          "name": "stdout"
        }
      ]
    },
    {
      "cell_type": "code",
      "metadata": {
        "id": "eaaDWyZbOSb8"
      },
      "source": [
        "import numpy as np \n",
        "from numpy import asarray\n",
        "import tensorflow as tf \n",
        "from tensorflow.keras.optimizers import Adam,RMSprop,SGD\n",
        "import os\n",
        "import shutil \n",
        "import matplotlib.pyplot as plt \n",
        "import matplotlib.image as mpimg\n",
        "from PIL import Image\n",
        "import keras\n",
        "from tensorflow.keras.models import Model, load_model\n",
        "import tensorflow.keras.layers\n",
        "import cv2\n",
        "from PIL import Image\n",
        "from tqdm import tqdm\n",
        "from sklearn.model_selection import train_test_split"
      ],
      "execution_count": null,
      "outputs": []
    },
    {
      "cell_type": "markdown",
      "metadata": {
        "id": "KLOS2n28kKxG"
      },
      "source": [
        "yo\n"
      ]
    },
    {
      "cell_type": "code",
      "metadata": {
        "id": "6Yg9iGcXOScF"
      },
      "source": [
        "data_directory = '/content/drive/My Drive/Garbage-Segmentation/'"
      ],
      "execution_count": null,
      "outputs": []
    },
    {
      "cell_type": "code",
      "metadata": {
        "id": "bOzOyYKaM-H5"
      },
      "source": [
        "data_list = os.listdir(data_directory)\n",
        "train_list = []\n",
        "label_list = []\n",
        "text_list = []\n",
        "\n",
        "for d in data_list:\n",
        "    train_list.append(d + \"/img.png\")\n",
        "    label_list.append(d + \"/label.png\")\n",
        "    text_list.append(d + \"/label_names.txt\")"
      ],
      "execution_count": null,
      "outputs": []
    },
    {
      "cell_type": "code",
      "metadata": {
        "colab": {
          "base_uri": "https://localhost:8080/"
        },
        "id": "-on-COBpmnEC",
        "outputId": "b0804dd8-06b0-4e82-cc1e-e4c724dd5e8e"
      },
      "source": [
        "print(text_list[19])"
      ],
      "execution_count": null,
      "outputs": [
        {
          "output_type": "stream",
          "text": [
            "trash7.json/label_names.txt\n"
          ],
          "name": "stdout"
        }
      ]
    },
    {
      "cell_type": "code",
      "metadata": {
        "id": "AQm9abFdOScT",
        "colab": {
          "base_uri": "https://localhost:8080/"
        },
        "outputId": "8b4da49f-087a-4ce2-e780-c6c4dc90e63a"
      },
      "source": [
        "print(len(train_list))\n",
        "print(len(label_list))\n",
        "print(len(text_list))"
      ],
      "execution_count": null,
      "outputs": [
        {
          "output_type": "stream",
          "text": [
            "20\n",
            "20\n",
            "20\n"
          ],
          "name": "stdout"
        }
      ]
    },
    {
      "cell_type": "code",
      "metadata": {
        "id": "WYKtRZhMOSc4",
        "colab": {
          "base_uri": "https://localhost:8080/",
          "height": 387
        },
        "outputId": "0aeb5874-760e-4e17-c781-0b519e47d529"
      },
      "source": [
        "height , width = (512,512)\n",
        "m = len(label_list)\n",
        "X = np.zeros([m, height, width, 3])\n",
        "Y = np.zeros([m, height, width, 3])\n",
        "\n",
        "for i in tqdm(range(m)):\n",
        "    img = mpimg.imread(data_directory  + train_list[i])\n",
        "    image = Image.open(data_directory  + train_list[i])\n",
        "    if image.mode == 'RGBA':\n",
        "        image = image.convert(\"RGB\")\n",
        "        img = np.array(image)\n",
        "    X[i] = img\n",
        "    Y[i] = mpimg.imread(data_directory + label_list[i])\n",
        "    "
      ],
      "execution_count": null,
      "outputs": [
        {
          "output_type": "stream",
          "text": [
            "  0%|          | 0/20 [00:00<?, ?it/s]\n"
          ],
          "name": "stderr"
        },
        {
          "output_type": "error",
          "ename": "NotADirectoryError",
          "evalue": "ignored",
          "traceback": [
            "\u001b[0;31m---------------------------------------------------------------------------\u001b[0m",
            "\u001b[0;31mNotADirectoryError\u001b[0m                        Traceback (most recent call last)",
            "\u001b[0;32m<ipython-input-22-a3221f82cc48>\u001b[0m in \u001b[0;36m<module>\u001b[0;34m()\u001b[0m\n\u001b[1;32m      5\u001b[0m \u001b[0;34m\u001b[0m\u001b[0m\n\u001b[1;32m      6\u001b[0m \u001b[0;32mfor\u001b[0m \u001b[0mi\u001b[0m \u001b[0;32min\u001b[0m \u001b[0mtqdm\u001b[0m\u001b[0;34m(\u001b[0m\u001b[0mrange\u001b[0m\u001b[0;34m(\u001b[0m\u001b[0mm\u001b[0m\u001b[0;34m)\u001b[0m\u001b[0;34m)\u001b[0m\u001b[0;34m:\u001b[0m\u001b[0;34m\u001b[0m\u001b[0;34m\u001b[0m\u001b[0m\n\u001b[0;32m----> 7\u001b[0;31m     \u001b[0mimg\u001b[0m \u001b[0;34m=\u001b[0m \u001b[0mmpimg\u001b[0m\u001b[0;34m.\u001b[0m\u001b[0mimread\u001b[0m\u001b[0;34m(\u001b[0m\u001b[0mdata_directory\u001b[0m  \u001b[0;34m+\u001b[0m \u001b[0mtrain_list\u001b[0m\u001b[0;34m[\u001b[0m\u001b[0mi\u001b[0m\u001b[0;34m]\u001b[0m\u001b[0;34m)\u001b[0m\u001b[0;34m\u001b[0m\u001b[0;34m\u001b[0m\u001b[0m\n\u001b[0m\u001b[1;32m      8\u001b[0m     \u001b[0mimage\u001b[0m \u001b[0;34m=\u001b[0m \u001b[0mImage\u001b[0m\u001b[0;34m.\u001b[0m\u001b[0mopen\u001b[0m\u001b[0;34m(\u001b[0m\u001b[0mdata_directory\u001b[0m  \u001b[0;34m+\u001b[0m \u001b[0mtrain_list\u001b[0m\u001b[0;34m[\u001b[0m\u001b[0mi\u001b[0m\u001b[0;34m]\u001b[0m\u001b[0;34m)\u001b[0m\u001b[0;34m\u001b[0m\u001b[0;34m\u001b[0m\u001b[0m\n\u001b[1;32m      9\u001b[0m     \u001b[0;32mif\u001b[0m \u001b[0mimage\u001b[0m\u001b[0;34m.\u001b[0m\u001b[0mmode\u001b[0m \u001b[0;34m==\u001b[0m \u001b[0;34m'RGBA'\u001b[0m\u001b[0;34m:\u001b[0m\u001b[0;34m\u001b[0m\u001b[0;34m\u001b[0m\u001b[0m\n",
            "\u001b[0;32m/usr/local/lib/python3.7/dist-packages/matplotlib/image.py\u001b[0m in \u001b[0;36mimread\u001b[0;34m(fname, format)\u001b[0m\n\u001b[1;32m   1472\u001b[0m             \u001b[0mfd\u001b[0m \u001b[0;34m=\u001b[0m \u001b[0mBytesIO\u001b[0m\u001b[0;34m(\u001b[0m\u001b[0mrequest\u001b[0m\u001b[0;34m.\u001b[0m\u001b[0murlopen\u001b[0m\u001b[0;34m(\u001b[0m\u001b[0mfname\u001b[0m\u001b[0;34m)\u001b[0m\u001b[0;34m.\u001b[0m\u001b[0mread\u001b[0m\u001b[0;34m(\u001b[0m\u001b[0;34m)\u001b[0m\u001b[0;34m)\u001b[0m\u001b[0;34m\u001b[0m\u001b[0;34m\u001b[0m\u001b[0m\n\u001b[1;32m   1473\u001b[0m             \u001b[0;32mreturn\u001b[0m \u001b[0m_png\u001b[0m\u001b[0;34m.\u001b[0m\u001b[0mread_png\u001b[0m\u001b[0;34m(\u001b[0m\u001b[0mfd\u001b[0m\u001b[0;34m)\u001b[0m\u001b[0;34m\u001b[0m\u001b[0;34m\u001b[0m\u001b[0m\n\u001b[0;32m-> 1474\u001b[0;31m     \u001b[0;32mwith\u001b[0m \u001b[0mcbook\u001b[0m\u001b[0;34m.\u001b[0m\u001b[0mopen_file_cm\u001b[0m\u001b[0;34m(\u001b[0m\u001b[0mfname\u001b[0m\u001b[0;34m,\u001b[0m \u001b[0;34m\"rb\"\u001b[0m\u001b[0;34m)\u001b[0m \u001b[0;32mas\u001b[0m \u001b[0mfile\u001b[0m\u001b[0;34m:\u001b[0m\u001b[0;34m\u001b[0m\u001b[0;34m\u001b[0m\u001b[0m\n\u001b[0m\u001b[1;32m   1475\u001b[0m         \u001b[0;32mreturn\u001b[0m \u001b[0m_png\u001b[0m\u001b[0;34m.\u001b[0m\u001b[0mread_png\u001b[0m\u001b[0;34m(\u001b[0m\u001b[0mfile\u001b[0m\u001b[0;34m)\u001b[0m\u001b[0;34m\u001b[0m\u001b[0;34m\u001b[0m\u001b[0m\n\u001b[1;32m   1476\u001b[0m \u001b[0;34m\u001b[0m\u001b[0m\n",
            "\u001b[0;32m/usr/lib/python3.7/contextlib.py\u001b[0m in \u001b[0;36m__enter__\u001b[0;34m(self)\u001b[0m\n\u001b[1;32m    110\u001b[0m         \u001b[0;32mdel\u001b[0m \u001b[0mself\u001b[0m\u001b[0;34m.\u001b[0m\u001b[0margs\u001b[0m\u001b[0;34m,\u001b[0m \u001b[0mself\u001b[0m\u001b[0;34m.\u001b[0m\u001b[0mkwds\u001b[0m\u001b[0;34m,\u001b[0m \u001b[0mself\u001b[0m\u001b[0;34m.\u001b[0m\u001b[0mfunc\u001b[0m\u001b[0;34m\u001b[0m\u001b[0;34m\u001b[0m\u001b[0m\n\u001b[1;32m    111\u001b[0m         \u001b[0;32mtry\u001b[0m\u001b[0;34m:\u001b[0m\u001b[0;34m\u001b[0m\u001b[0;34m\u001b[0m\u001b[0m\n\u001b[0;32m--> 112\u001b[0;31m             \u001b[0;32mreturn\u001b[0m \u001b[0mnext\u001b[0m\u001b[0;34m(\u001b[0m\u001b[0mself\u001b[0m\u001b[0;34m.\u001b[0m\u001b[0mgen\u001b[0m\u001b[0;34m)\u001b[0m\u001b[0;34m\u001b[0m\u001b[0;34m\u001b[0m\u001b[0m\n\u001b[0m\u001b[1;32m    113\u001b[0m         \u001b[0;32mexcept\u001b[0m \u001b[0mStopIteration\u001b[0m\u001b[0;34m:\u001b[0m\u001b[0;34m\u001b[0m\u001b[0;34m\u001b[0m\u001b[0m\n\u001b[1;32m    114\u001b[0m             \u001b[0;32mraise\u001b[0m \u001b[0mRuntimeError\u001b[0m\u001b[0;34m(\u001b[0m\u001b[0;34m\"generator didn't yield\"\u001b[0m\u001b[0;34m)\u001b[0m \u001b[0;32mfrom\u001b[0m \u001b[0;32mNone\u001b[0m\u001b[0;34m\u001b[0m\u001b[0;34m\u001b[0m\u001b[0m\n",
            "\u001b[0;32m/usr/local/lib/python3.7/dist-packages/matplotlib/cbook/__init__.py\u001b[0m in \u001b[0;36mopen_file_cm\u001b[0;34m(path_or_file, mode, encoding)\u001b[0m\n\u001b[1;32m    416\u001b[0m \u001b[0;32mdef\u001b[0m \u001b[0mopen_file_cm\u001b[0m\u001b[0;34m(\u001b[0m\u001b[0mpath_or_file\u001b[0m\u001b[0;34m,\u001b[0m \u001b[0mmode\u001b[0m\u001b[0;34m=\u001b[0m\u001b[0;34m\"r\"\u001b[0m\u001b[0;34m,\u001b[0m \u001b[0mencoding\u001b[0m\u001b[0;34m=\u001b[0m\u001b[0;32mNone\u001b[0m\u001b[0;34m)\u001b[0m\u001b[0;34m:\u001b[0m\u001b[0;34m\u001b[0m\u001b[0;34m\u001b[0m\u001b[0m\n\u001b[1;32m    417\u001b[0m     \u001b[0;34mr\"\"\"Pass through file objects and context-manage `.PathLike`\\s.\"\"\"\u001b[0m\u001b[0;34m\u001b[0m\u001b[0;34m\u001b[0m\u001b[0m\n\u001b[0;32m--> 418\u001b[0;31m     \u001b[0mfh\u001b[0m\u001b[0;34m,\u001b[0m \u001b[0mopened\u001b[0m \u001b[0;34m=\u001b[0m \u001b[0mto_filehandle\u001b[0m\u001b[0;34m(\u001b[0m\u001b[0mpath_or_file\u001b[0m\u001b[0;34m,\u001b[0m \u001b[0mmode\u001b[0m\u001b[0;34m,\u001b[0m \u001b[0;32mTrue\u001b[0m\u001b[0;34m,\u001b[0m \u001b[0mencoding\u001b[0m\u001b[0;34m)\u001b[0m\u001b[0;34m\u001b[0m\u001b[0;34m\u001b[0m\u001b[0m\n\u001b[0m\u001b[1;32m    419\u001b[0m     \u001b[0;32mif\u001b[0m \u001b[0mopened\u001b[0m\u001b[0;34m:\u001b[0m\u001b[0;34m\u001b[0m\u001b[0;34m\u001b[0m\u001b[0m\n\u001b[1;32m    420\u001b[0m         \u001b[0;32mwith\u001b[0m \u001b[0mfh\u001b[0m\u001b[0;34m:\u001b[0m\u001b[0;34m\u001b[0m\u001b[0;34m\u001b[0m\u001b[0m\n",
            "\u001b[0;32m/usr/local/lib/python3.7/dist-packages/matplotlib/cbook/__init__.py\u001b[0m in \u001b[0;36mto_filehandle\u001b[0;34m(fname, flag, return_opened, encoding)\u001b[0m\n\u001b[1;32m    401\u001b[0m             \u001b[0mfh\u001b[0m \u001b[0;34m=\u001b[0m \u001b[0mbz2\u001b[0m\u001b[0;34m.\u001b[0m\u001b[0mBZ2File\u001b[0m\u001b[0;34m(\u001b[0m\u001b[0mfname\u001b[0m\u001b[0;34m,\u001b[0m \u001b[0mflag\u001b[0m\u001b[0;34m)\u001b[0m\u001b[0;34m\u001b[0m\u001b[0;34m\u001b[0m\u001b[0m\n\u001b[1;32m    402\u001b[0m         \u001b[0;32melse\u001b[0m\u001b[0;34m:\u001b[0m\u001b[0;34m\u001b[0m\u001b[0;34m\u001b[0m\u001b[0m\n\u001b[0;32m--> 403\u001b[0;31m             \u001b[0mfh\u001b[0m \u001b[0;34m=\u001b[0m \u001b[0mopen\u001b[0m\u001b[0;34m(\u001b[0m\u001b[0mfname\u001b[0m\u001b[0;34m,\u001b[0m \u001b[0mflag\u001b[0m\u001b[0;34m,\u001b[0m \u001b[0mencoding\u001b[0m\u001b[0;34m=\u001b[0m\u001b[0mencoding\u001b[0m\u001b[0;34m)\u001b[0m\u001b[0;34m\u001b[0m\u001b[0;34m\u001b[0m\u001b[0m\n\u001b[0m\u001b[1;32m    404\u001b[0m         \u001b[0mopened\u001b[0m \u001b[0;34m=\u001b[0m \u001b[0;32mTrue\u001b[0m\u001b[0;34m\u001b[0m\u001b[0;34m\u001b[0m\u001b[0m\n\u001b[1;32m    405\u001b[0m     \u001b[0;32melif\u001b[0m \u001b[0mhasattr\u001b[0m\u001b[0;34m(\u001b[0m\u001b[0mfname\u001b[0m\u001b[0;34m,\u001b[0m \u001b[0;34m'seek'\u001b[0m\u001b[0;34m)\u001b[0m\u001b[0;34m:\u001b[0m\u001b[0;34m\u001b[0m\u001b[0;34m\u001b[0m\u001b[0m\n",
            "\u001b[0;31mNotADirectoryError\u001b[0m: [Errno 20] Not a directory: '/content/drive/My Drive/Garbage-Segmentation/trash6.json/img.png'"
          ]
        }
      ]
    },
    {
      "cell_type": "code",
      "metadata": {
        "id": "H33iA86ZM-H_"
      },
      "source": [
        "for n in tqdm(range(m)):\n",
        "    for i in range(height):\n",
        "        for j in range(width):\n",
        "            for c in range(3):\n",
        "                if(Y[n,i,j,c] > 0):\n",
        "                    Y[n,i,j,c] = 1"
      ],
      "execution_count": null,
      "outputs": []
    },
    {
      "cell_type": "code",
      "metadata": {
        "id": "knQa4s8KM-IA"
      },
      "source": [
        "colour_label = np.array([[0.0 ,0.0 ,0.0], [1.0,0.0,0.0]])"
      ],
      "execution_count": null,
      "outputs": []
    },
    {
      "cell_type": "code",
      "metadata": {
        "id": "yXTrgMf9M-IA"
      },
      "source": [
        "def change_colour(t, k):\n",
        "  if(k == \"'_background_\\n'\"):\n",
        "    t = [0.0, 0.0, 0.0]\n",
        "    #print('background')\n",
        "  elif(k == \"cardboard\\n\"):\n",
        "    t = [0.0, 0.0, 1.0]\n",
        "    #print(\"C\")\n",
        "  elif(k == \"glass\\n\"):\n",
        "    t = [0.0, 1.0, 0.0]\n",
        "    #print(\"D\")\n",
        "  elif(k == \"metal\\n\"):\n",
        "    t = [0.0, 1.0, 1.0]\n",
        "    #print(\"EL\")\n",
        "  elif(k == \"paper\\n\"):\n",
        "    t = [1.0, 0.0, 0.0]\n",
        "    #print(\"ER\")\n",
        "  elif(k == \"plastic\\n\"):\n",
        "    t = [1.0, 0, 1.0]\n",
        "    #print(\"L\")\n",
        "  elif(k == \"trash\\n\"):\n",
        "    t = [1.0, 1.0, 0.0]\n",
        "    #print(\"S\")\n",
        "  else:\n",
        "    t = [0.0,0.0,0.0]\n",
        "  return t\n"
      ],
      "execution_count": null,
      "outputs": []
    },
    {
      "cell_type": "code",
      "metadata": {
        "id": "hj7QYbKhM-IC"
      },
      "source": [
        "def lab_checker(t, n):\n",
        "  #print('we r in')\n",
        "  f = open(data_directory + text_list[n], 'r')\n",
        "  fil = f.readlines()\n",
        "  counter = 0\n",
        "  \n",
        "  for line in fil:\n",
        "    if(tuple(t) == tuple(colour_label[counter])):\n",
        "      t = change_colour(t, line)\n",
        "      return np.array(t)\n",
        "    counter = counter + 1\n",
        "  f.close()\n",
        "  return np.array(t)\n"
      ],
      "execution_count": null,
      "outputs": []
    },
    {
      "cell_type": "code",
      "metadata": {
        "tags": [],
        "id": "ZXwkr8luM-IC"
      },
      "source": [
        "for n in tqdm(range(m)):\n",
        "    for i in range(height):\n",
        "        for j in range(width):\n",
        "            t = Y[n, i, j, :]\n",
        "            Y[n, i, j, :] = lab_checker(t, n)"
      ],
      "execution_count": null,
      "outputs": []
    },
    {
      "cell_type": "code",
      "metadata": {
        "id": "c4B4hO84M-ID"
      },
      "source": [
        "plt.imshow(Y[530])"
      ],
      "execution_count": null,
      "outputs": []
    },
    {
      "cell_type": "code",
      "metadata": {
        "id": "-Jgp6_nKM-ID"
      },
      "source": [
        "x_train, x_test, y_train, y_test = train_test_split(X, Z, test_size=0.2, random_state=42)"
      ],
      "execution_count": null,
      "outputs": []
    },
    {
      "cell_type": "code",
      "metadata": {
        "id": "TkT_JaPfOSc9"
      },
      "source": [
        "# Function for a single resolution convolution operations\n",
        "\n",
        "def conv_layer(input_layer, conv_channels, kernel_size = (3,3), pool_stride = (2,2), dropout_rate = 0.2, padding = 'same', activation = 'relu'):        \n",
        "    print(input_layer.shape)\n",
        "    layer_1 = tf.keras.layers.Conv2D(conv_channels, kernel_size, activation = activation, padding = padding, kernel_initializer = 'he_normal')(input_layer)\n",
        "    print(layer_1.shape)\n",
        "    layer_2 = tf.keras.layers.BatchNormalization()(layer_1)\n",
        "    layer_3 = tf.keras.layers.Dropout(dropout_rate)(layer_2)\n",
        "    layer_4 = tf.keras.layers.Conv2D(conv_channels, kernel_size, activation = activation, padding = padding, kernel_initializer = 'he_normal')(layer_3)\n",
        "    layer_5 = tf.keras.layers.BatchNormalization()(layer_4)\n",
        "    layer_6 = tf.keras.layers.MaxPool2D(pool_stride)(layer_5)\n",
        "    \n",
        "    return layer_1,layer_6"
      ],
      "execution_count": null,
      "outputs": []
    },
    {
      "cell_type": "code",
      "metadata": {
        "id": "GZfZ6H9fOSdD"
      },
      "source": [
        "# Function for a single resolution convolution operation at the terminal position\n",
        "\n",
        "def terminal_conv_layer(input_layer, conv_channels, kernel_size = (3,3), dropout_rate = 0.2, padding = 'same', activation = 'relu'):\n",
        "    \n",
        "    layer_1 = tf.keras.layers.Conv2D(conv_channels, kernel_size, activation = activation, padding = padding, kernel_initializer = 'he_normal')(input_layer)\n",
        "    layer_2 = tf.keras.layers.BatchNormalization()(layer_1)\n",
        "    layer_3 = tf.keras.layers.Dropout(dropout_rate)(layer_2)\n",
        "    layer_4 = tf.keras.layers.Conv2D(conv_channels, kernel_size, activation = activation, padding = padding, kernel_initializer = 'he_normal')(layer_3)\n",
        "    layer_5 = tf.keras.layers.BatchNormalization()(layer_4)\n",
        "    \n",
        "    return layer_5"
      ],
      "execution_count": null,
      "outputs": []
    },
    {
      "cell_type": "code",
      "metadata": {
        "id": "MhvuHWErOSdJ"
      },
      "source": [
        "# Function for a single resolution transpose convolution operation\n",
        "\n",
        "def transpose_conv_layer(input_layer, skip_layer, conv_channels, kernel_size = (3,3), transpose_kernel_size = (2,2), dropout_rate = 0.2, padding = 'same', activation = 'relu', transpose_strides = (2,2)):\n",
        "    print(input_layer.shape)\n",
        "    layer_1 = tf.keras.layers.Conv2DTranspose(conv_channels, transpose_kernel_size, strides = transpose_strides, padding = padding )(input_layer)\n",
        "    print(layer_1.shape, skip_layer.shape)\n",
        "    layer_2 = tf.keras.layers.concatenate([layer_1, skip_layer], axis = 3)\n",
        "    \n",
        "    layer_3 = tf.keras.layers.Conv2D(conv_channels, kernel_size, activation = activation, padding = padding, kernel_initializer = 'he_normal')(layer_2)\n",
        "    layer_4 = tf.keras.layers.BatchNormalization()(layer_3)\n",
        "    layer_5 = tf.keras.layers.Dropout(dropout_rate)(layer_4)\n",
        "    layer_6 = tf.keras.layers.Conv2D(conv_channels, kernel_size, activation = activation, padding = padding, kernel_initializer = 'he_normal')(layer_5)\n",
        "    layer_7 = tf.keras.layers.BatchNormalization()(layer_6)    \n",
        "    \n",
        "    return layer_7"
      ],
      "execution_count": null,
      "outputs": []
    },
    {
      "cell_type": "code",
      "metadata": {
        "id": "J7fVvmdNOSdP"
      },
      "source": [
        "def modified_unet_model(height, width, image_channels):\n",
        "    \n",
        "    inputs = tf.keras.layers.Input((height, width, image_channels))\n",
        "    normalized_inputs = tf.keras.layers.Lambda(lambda x: x/255)(inputs)\n",
        "\n",
        "    S1,D1 = conv_layer(normalized_inputs, 32)\n",
        "    S2,D2 = conv_layer(D1, 64)\n",
        "    S3,D3 = conv_layer(D2, 128)\n",
        "    S4,D4 = conv_layer(D3, 256)\n",
        "    S5,D5 = conv_layer(D4, 512)\n",
        "\n",
        "    T1 = terminal_conv_layer(D5, 1024)\n",
        "\n",
        "    U1 = transpose_conv_layer(T1, S5, 512)\n",
        "    U2 = transpose_conv_layer(U1, S4, 256)\n",
        "    U3 = transpose_conv_layer(U2, S3, 128)\n",
        "    U4 = transpose_conv_layer(U3, S2, 64)\n",
        "    U5 = transpose_conv_layer(U4, S1, 32)\n",
        "\n",
        "    outputs = tf.keras.layers.Conv2D(3,(1,1), activation = tf.nn.relu)(U5)\n",
        "\n",
        "    model = Model(inputs = [inputs], outputs = [outputs])\n",
        "    \n",
        "    model.summary()\n",
        "    \n",
        "    return model"
      ],
      "execution_count": null,
      "outputs": []
    },
    {
      "cell_type": "code",
      "metadata": {
        "id": "56Qy4c8BOSdU"
      },
      "source": [
        "def train_the_model(X,Y,optimizer,loss,metrics,epochs,verbose):\n",
        "    \n",
        "    h = X.shape[1]\n",
        "    \n",
        "    w = X.shape[2]\n",
        "    c = X.shape[3]\n",
        "    print(h, w, c)\n",
        "    \n",
        "    unet_model = modified_unet_model(h,w,c)\n",
        "    \n",
        "    unet_model.compile(optimizer = optimizer, loss = loss, metrics = [metrics])\n",
        "    history = unet_model.fit(X,Y,validation_data= (x_test, y_test),epochs = epochs, verbose = verbose, batch_size = 32)\n",
        "    \n",
        "    return history, unet_model"
      ],
      "execution_count": null,
      "outputs": []
    },
    {
      "cell_type": "code",
      "metadata": {
        "id": "YWZuD9ZVOSdZ"
      },
      "source": [
        "model_history , trained_model = train_the_model(x_train,y_train,'adam','mean_squared_error','acc',600,1)"
      ],
      "execution_count": null,
      "outputs": []
    },
    {
      "cell_type": "code",
      "metadata": {
        "id": "jyzt0QExM-IJ"
      },
      "source": [
        "trained_model.save('weights.h5')"
      ],
      "execution_count": null,
      "outputs": []
    },
    {
      "cell_type": "code",
      "metadata": {
        "id": "nxNngZKYM-IJ"
      },
      "source": [
        "plt.imshow(Y[360])"
      ],
      "execution_count": null,
      "outputs": []
    },
    {
      "cell_type": "code",
      "metadata": {
        "id": "3t3np9QcM-IK"
      },
      "source": [
        "print(len(x_test))"
      ],
      "execution_count": null,
      "outputs": []
    },
    {
      "cell_type": "code",
      "metadata": {
        "id": "ShCy0nilM-IL"
      },
      "source": [
        "n = 100\n",
        "\n",
        "i = x_test[n]\n",
        "'''\n",
        "image = Image.open(data_directory  + train_list[n])\n",
        "if image.mode == 'RGBA':\n",
        "    image = image.convert(\"RGB\")\n",
        "    i = np.array(image)\n",
        "\n",
        "'''\n",
        "i = i.reshape((1,64,64,3))\n",
        "\n",
        "\n",
        "print(i.shape)\n",
        "img1 = trained_model.predict(i)"
      ],
      "execution_count": null,
      "outputs": []
    },
    {
      "cell_type": "code",
      "metadata": {
        "id": "6JeqaeBgM-IM"
      },
      "source": [
        "figure, axis = plt.subplots(1,3)\n",
        "axis[0].imshow(i[0])\n",
        "axis[0].set_title(\"Image\")\n",
        "\n",
        "axis[1].imshow(y_test[n])\n",
        "axis[1].set_title(\"Actual\")\n",
        "\n",
        "axis[2].imshow(img1[0])\n",
        "axis[2].set_title(\"Predicted\")\n",
        "\n",
        "\n",
        "plt.show()\n"
      ],
      "execution_count": null,
      "outputs": []
    },
    {
      "cell_type": "code",
      "metadata": {
        "id": "TxIdYQ1NM-IM"
      },
      "source": [],
      "execution_count": null,
      "outputs": []
    },
    {
      "cell_type": "code",
      "metadata": {
        "id": "2TfTtSkIM-IN"
      },
      "source": [
        "i = x_test[100]\n",
        "\n",
        "i = i.reshape((1,64,64,3))\n",
        "\n",
        "y_pred = trained_model.predict(i)\n",
        "y_true = y_test[100]"
      ],
      "execution_count": null,
      "outputs": []
    },
    {
      "cell_type": "code",
      "metadata": {
        "id": "zAPmpdF0M-IN"
      },
      "source": [
        "intersection = np.sum(np.logical_and(y_true, y_pred))\n",
        "union = np.sum(np.logical_or(y_pred, y_true))\n",
        "iou = np.mean((intersection)/union)\n",
        "dice = 2*np.mean(intersection/(np.sum(y_pred)+np.sum(y_true)))\n"
      ],
      "execution_count": null,
      "outputs": []
    },
    {
      "cell_type": "code",
      "metadata": {
        "id": "Osf6qxc-M-IO"
      },
      "source": [
        "print(iou)"
      ],
      "execution_count": null,
      "outputs": []
    },
    {
      "cell_type": "code",
      "metadata": {
        "id": "hZqCh4UHM-IO"
      },
      "source": [
        "print(dice)"
      ],
      "execution_count": null,
      "outputs": []
    },
    {
      "cell_type": "code",
      "metadata": {
        "id": "ifbKm_v6M-IP"
      },
      "source": [
        "Y_Pred = trained_model.predict(X)"
      ],
      "execution_count": null,
      "outputs": []
    },
    {
      "cell_type": "code",
      "metadata": {
        "id": "kAyfmvUYM-IP"
      },
      "source": [
        "for n in tqdm(range(m)):\n",
        "    for i in range(height):\n",
        "        for j in range(width):\n",
        "            for c in range(3):\n",
        "                if(Y_Pred[n,i,j,c] > 0):\n",
        "                    Y_Pred[n,i,j,c] = 1"
      ],
      "execution_count": null,
      "outputs": []
    },
    {
      "cell_type": "code",
      "metadata": {
        "id": "liBcCFmvM-IQ"
      },
      "source": [
        "intersection = np.sum(np.logical_and(Z, Y_Pred))\n",
        "union = np.sum(np.logical_or(Y_Pred, Z))\n",
        "iou = np.mean((intersection)/union)\n",
        "dice = 2*np.mean(intersection/(np.sum(Y_Pred)+np.sum(Z)))"
      ],
      "execution_count": null,
      "outputs": []
    },
    {
      "cell_type": "code",
      "metadata": {
        "id": "PGUOfJdfM-IR"
      },
      "source": [
        "print(data_list[5])\n",
        "for d in range(len(data_list)):\n",
        "    plt.imsave(data_directory + data_list[d] + \"/label_new.png\", Z[d])\n",
        "    plt.imsave(data_directory + data_list[d] + \"/pred.png\", Y_Pred[d])\n"
      ],
      "execution_count": null,
      "outputs": []
    },
    {
      "cell_type": "code",
      "metadata": {
        "id": "-GnUm-5KM-IR"
      },
      "source": [
        "trained_model.save(\"model\")"
      ],
      "execution_count": null,
      "outputs": []
    },
    {
      "cell_type": "code",
      "metadata": {
        "id": "B5gYTn8vM-IS"
      },
      "source": [
        "classinter = [0, 0, 0, 0, 0, 0]\n",
        "classunion = [0, 0, 0, 0, 0, 0]"
      ],
      "execution_count": null,
      "outputs": []
    },
    {
      "cell_type": "code",
      "metadata": {
        "id": "lqOOKaB2M-IS"
      },
      "source": [
        "def classin(r, cl):\n",
        "    if(r == tuple([0.0, 0.0, 1.0])):\n",
        "        cl[0] = cl[0] + 1\n",
        "    elif(r == tuple([0.0, 1.0, 0.0])):\n",
        "        cl[1] = cl[1] + 1\n",
        "    elif(r == tuple([0.0, 1.0, 1.0])):\n",
        "        cl[2] = cl[2] + 1\n",
        "    elif(r == tuple([1.0, 0.0, 0.0])):\n",
        "        cl[3] = cl[3] + 1\n",
        "    elif(r == tuple([1.0, 0.0, 1.0])):\n",
        "        cl[4] = cl[4] + 1\n",
        "    elif(r == tuple([1.0, 1.0, 0.0])):\n",
        "        cl[5] = cl[5] + 1\n",
        "    return cl\n"
      ],
      "execution_count": null,
      "outputs": []
    },
    {
      "cell_type": "code",
      "metadata": {
        "id": "yEA8-YOxM-IT"
      },
      "source": [
        "def classun(r, cl):\n",
        "    if(r == tuple([0.0, 0.0, 1.0])):\n",
        "        cl[0] = cl[0] + 1\n",
        "    elif(r == tuple([0.0, 1.0, 0.0])):\n",
        "        cl[1] = cl[1] + 1\n",
        "    elif(r == tuple([0.0, 1.0, 1.0])):\n",
        "        cl[2] = cl[2] + 1\n",
        "    elif(r == tuple([1.0, 0.0, 0.0])):\n",
        "        cl[3] = cl[3] + 1\n",
        "    elif(r == tuple([1.0, 0.0, 1.0])):\n",
        "        cl[4] = cl[4] + 1\n",
        "    elif(r == tuple([1.0, 1.0, 0.0])):\n",
        "        cl[5] = cl[5] + 1\n",
        "    return cl"
      ],
      "execution_count": null,
      "outputs": []
    },
    {
      "cell_type": "code",
      "metadata": {
        "id": "aD6SfvYiM-IT"
      },
      "source": [
        "for n in tqdm(range(m)):\n",
        "    for i in range(height):\n",
        "        for j in range(width):\n",
        "            yp = tuple(Y_Pred[n, i, j, :])\n",
        "            yt = tuple(Z[n, i, j, :])\n",
        "            if(yp == yt):\n",
        "                classinter = classin(yp, classinter)\n",
        "                classunion = classun(yt, classunion)\n",
        "            else:\n",
        "                classunion = classun(yt, classunion)\n",
        "                classunion = classun(yp, classunion)\n"
      ],
      "execution_count": null,
      "outputs": []
    },
    {
      "cell_type": "code",
      "metadata": {
        "id": "SbXPovk-M-IU"
      },
      "source": [
        "print(\"IOU Score Class Wise\")\n",
        "print(\"#######################\")\n",
        "print(\"Center:    {}\", (classinter[0]/classunion[0])*100)\n",
        "print(\"Donut:     {}\", (classinter[1]/classunion[1])*100)\n",
        "print(\"Edge Loc:  {}\", (classinter[2]/classunion[2])*100)\n",
        "print(\"Edge Ring: {}\", (classinter[3]/classunion[3])*100)\n",
        "print(\"Loc:       {}\", (classinter[4]/classunion[4])*100)\n",
        "print(\"Scratch:   {}\", (classinter[5]/classunion[5])*100)"
      ],
      "execution_count": null,
      "outputs": []
    },
    {
      "cell_type": "code",
      "metadata": {
        "id": "1CuenOtXM-IV"
      },
      "source": [],
      "execution_count": null,
      "outputs": []
    }
  ]
}